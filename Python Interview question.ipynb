{
 "cells": [
  {
   "cell_type": "markdown",
   "id": "d8665595",
   "metadata": {},
   "source": [
    "### 1. Generate an infinite Fibonacci series using a generator."
   ]
  },
  {
   "cell_type": "code",
   "execution_count": 5,
   "id": "b5550cbd",
   "metadata": {},
   "outputs": [],
   "source": [
    "def fibonnacci(num):\n",
    "    if num > 1:\n",
    "        a = 0\n",
    "        b = 1\n",
    "        for i in range (1, num+1):\n",
    "            c = a+b\n",
    "            a = b\n",
    "            b = c\n",
    "#             c = a+b\n",
    "            print(c)\n",
    "            \n",
    "        "
   ]
  },
  {
   "cell_type": "code",
   "execution_count": 9,
   "id": "df6bc3c3",
   "metadata": {},
   "outputs": [
    {
     "name": "stdout",
     "output_type": "stream",
     "text": [
      "1\n",
      "2\n",
      "3\n",
      "5\n",
      "8\n",
      "13\n",
      "21\n",
      "34\n"
     ]
    }
   ],
   "source": [
    "fibonnacci(8)"
   ]
  },
  {
   "cell_type": "code",
   "execution_count": 19,
   "id": "de1db4e0",
   "metadata": {},
   "outputs": [],
   "source": []
  },
  {
   "cell_type": "code",
   "execution_count": 20,
   "id": "92ac3d39",
   "metadata": {},
   "outputs": [
    {
     "name": "stdout",
     "output_type": "stream",
     "text": [
      "0\n",
      "1\n",
      "2\n",
      "3\n",
      "5\n",
      "8\n",
      "13\n",
      "21\n",
      "34\n",
      "55\n",
      "89\n"
     ]
    }
   ],
   "source": []
  },
  {
   "cell_type": "code",
   "execution_count": 21,
   "id": "0810c890",
   "metadata": {},
   "outputs": [],
   "source": []
  },
  {
   "cell_type": "code",
   "execution_count": 22,
   "id": "19f1d905",
   "metadata": {},
   "outputs": [
    {
     "name": "stdout",
     "output_type": "stream",
     "text": [
      "0\n",
      "1\n",
      "2\n",
      "3\n",
      "5\n",
      "8\n",
      "13\n",
      "21\n"
     ]
    }
   ],
   "source": [
    "fibonacci(8)"
   ]
  },
  {
   "cell_type": "code",
   "execution_count": 23,
   "id": "009a6ad1",
   "metadata": {},
   "outputs": [],
   "source": [
    "def fib(num):\n",
    "    if num > 1:\n",
    "        a = 0\n",
    "        b = 1\n",
    "        print(a)\n",
    "        for i in range(1, num):\n",
    "            c = a + b\n",
    "            a = b \n",
    "            b = c\n",
    "            print(c)"
   ]
  },
  {
   "cell_type": "code",
   "execution_count": 24,
   "id": "112b24ce",
   "metadata": {},
   "outputs": [
    {
     "name": "stdout",
     "output_type": "stream",
     "text": [
      "0\n",
      "1\n",
      "2\n",
      "3\n",
      "5\n",
      "8\n",
      "13\n"
     ]
    }
   ],
   "source": [
    "fib(7)"
   ]
  },
  {
   "cell_type": "markdown",
   "id": "4c21e6e8",
   "metadata": {},
   "source": [
    "### 2. Sort a list without using the keyword Sort."
   ]
  },
  {
   "cell_type": "code",
   "execution_count": 28,
   "id": "f04f398b",
   "metadata": {},
   "outputs": [],
   "source": [
    "def lis_sot(lis):\n",
    "    for i in range(0, len(lis)):\n",
    "        for j in range(i+1, len(lis)):\n",
    "            if lis[i] <= lis[j]:\n",
    "                lis[i], lis[j] = lis[j], lis[i]\n",
    "    print(lis)\n",
    "                "
   ]
  },
  {
   "cell_type": "code",
   "execution_count": 29,
   "id": "c11b3acb",
   "metadata": {},
   "outputs": [
    {
     "name": "stdout",
     "output_type": "stream",
     "text": [
      "[64, 54, 54, 45, 23, 23, 23, 12, 6, 3, 2, 1]\n"
     ]
    }
   ],
   "source": [
    "lis_sot([23, 45, 54, 3, 54, 64, 23, 23, 12, 1, 2, 6])"
   ]
  },
  {
   "cell_type": "code",
   "execution_count": 34,
   "id": "32d65605",
   "metadata": {},
   "outputs": [],
   "source": [
    "def list_sort(list1):\n",
    "    for i in range(0, len(list1)):\n",
    "        for j in range(i+1, len(list1)):\n",
    "            if list1[i] >= list1[j]:\n",
    "                list1[i], list1[j] = list1[j], list1[i]\n",
    "    print(list1)\n",
    "                "
   ]
  },
  {
   "cell_type": "code",
   "execution_count": 35,
   "id": "b76eb1aa",
   "metadata": {},
   "outputs": [
    {
     "name": "stdout",
     "output_type": "stream",
     "text": [
      "[1, 2, 3, 6, 12, 23, 23, 23, 45, 54, 54, 64]\n"
     ]
    }
   ],
   "source": [
    "list_sort([23, 45, 54, 3, 54, 64, 23, 23, 12, 1, 2, 6])"
   ]
  },
  {
   "cell_type": "code",
   "execution_count": 42,
   "id": "bbb677cd",
   "metadata": {},
   "outputs": [],
   "source": [
    "def list1_sot(lis1):\n",
    "    for i in range(0, len(lis1)):\n",
    "        for j in range(i+1, len(lis1)):\n",
    "            if lis1[i] >= lis1[j]:\n",
    "                lis1[i], lis1[j] = lis1[j], lis1[i]\n",
    "    print(lis1)    \n",
    "    \n",
    "                    "
   ]
  },
  {
   "cell_type": "code",
   "execution_count": 43,
   "id": "ae60af80",
   "metadata": {},
   "outputs": [
    {
     "name": "stdout",
     "output_type": "stream",
     "text": [
      "[1, 2, 3, 6, 12, 23, 23, 23, 45, 54, 54, 64]\n"
     ]
    }
   ],
   "source": [
    "list1_sot([23, 45, 54, 3, 54, 64, 23, 23, 12, 1, 2, 6])"
   ]
  },
  {
   "cell_type": "code",
   "execution_count": 44,
   "id": "770cede8",
   "metadata": {},
   "outputs": [],
   "source": [
    "def lst_sot(lis):\n",
    "    for i in range(0, len(lis)):\n",
    "        for j in range(i+1, len(lis)):\n",
    "            if lis[i]>=lis[j]:\n",
    "                lis[i], lis[j] = lis[j], lis[i]\n",
    "                \n",
    "    print(lis)"
   ]
  },
  {
   "cell_type": "code",
   "execution_count": 45,
   "id": "be61fa9c",
   "metadata": {},
   "outputs": [
    {
     "name": "stdout",
     "output_type": "stream",
     "text": [
      "[1, 2, 3, 6, 12, 23, 23, 23, 45, 54, 54, 64]\n"
     ]
    }
   ],
   "source": [
    "lst_sot([23, 45, 54, 3, 54, 64, 23, 23, 12, 1, 2, 6])"
   ]
  },
  {
   "cell_type": "code",
   "execution_count": 48,
   "id": "4fd5b837",
   "metadata": {},
   "outputs": [],
   "source": [
    "def fib(num):\n",
    "    if num > 1:\n",
    "        a = 0\n",
    "        b = 1\n",
    "        print(a)\n",
    "        for i in range(1, num):\n",
    "                c = a + b\n",
    "                a = b\n",
    "                b = c\n",
    "                print(c)"
   ]
  },
  {
   "cell_type": "code",
   "execution_count": 49,
   "id": "68b8c10b",
   "metadata": {},
   "outputs": [
    {
     "name": "stdout",
     "output_type": "stream",
     "text": [
      "0\n",
      "1\n",
      "2\n",
      "3\n",
      "5\n",
      "8\n",
      "13\n"
     ]
    }
   ],
   "source": [
    "fib(7)"
   ]
  },
  {
   "cell_type": "code",
   "execution_count": 54,
   "id": "6ffee96a",
   "metadata": {},
   "outputs": [],
   "source": [
    "def ls_sot(lis):\n",
    "    for i in range(0, len(lis)):\n",
    "        for j in range(i+1, len(lis)):\n",
    "            if lis[i] > lis[j]:\n",
    "                lis[i], lis[j] = lis[j], lis[i]\n",
    "    print(lis)"
   ]
  },
  {
   "cell_type": "code",
   "execution_count": 55,
   "id": "facf479b",
   "metadata": {},
   "outputs": [
    {
     "name": "stdout",
     "output_type": "stream",
     "text": [
      "[1, 2, 3, 6, 12, 23, 23, 23, 45, 54, 54, 64]\n"
     ]
    }
   ],
   "source": [
    "ls_sot([23, 45, 54, 3, 54, 64, 23, 23, 12, 1, 2, 6])"
   ]
  },
  {
   "cell_type": "markdown",
   "id": "44818741",
   "metadata": {},
   "source": [
    "### 3. Check whether a string is palindrome or not?"
   ]
  },
  {
   "cell_type": "code",
   "execution_count": 63,
   "id": "663d86d3",
   "metadata": {},
   "outputs": [],
   "source": [
    "def palindrome(string):\n",
    "    a = str(string)\n",
    "    if a == a[-1::-1]:\n",
    "        print(\"Palindrome\")\n",
    "    else:\n",
    "        print(\"No\")\n",
    "    "
   ]
  },
  {
   "cell_type": "code",
   "execution_count": 64,
   "id": "d2d35fa8",
   "metadata": {},
   "outputs": [
    {
     "name": "stdout",
     "output_type": "stream",
     "text": [
      "No\n"
     ]
    }
   ],
   "source": [
    "palindrome(243234)"
   ]
  },
  {
   "cell_type": "code",
   "execution_count": 65,
   "id": "eab22422",
   "metadata": {},
   "outputs": [],
   "source": [
    "def palin(string):\n",
    "    a = str(string)\n",
    "    if a == a[-1::-1]:\n",
    "        print('Palindrome')\n",
    "    else:\n",
    "        print(\"No\")"
   ]
  },
  {
   "cell_type": "code",
   "execution_count": 67,
   "id": "078309c6",
   "metadata": {},
   "outputs": [
    {
     "name": "stdout",
     "output_type": "stream",
     "text": [
      "Palindrome\n"
     ]
    }
   ],
   "source": [
    "palin(\"adda\")"
   ]
  },
  {
   "cell_type": "markdown",
   "id": "72c31cfe",
   "metadata": {},
   "source": [
    "### Program to sort a dictionary based on keys in python."
   ]
  },
  {
   "cell_type": "code",
   "execution_count": 1,
   "id": "3fa7dfe7",
   "metadata": {},
   "outputs": [],
   "source": [
    "a = {'Ram':'God',\n",
    "    'Shyam':'Boy',\n",
    "    'Radha':'Godess',\n",
    "    'Sita':'Girls',\n",
    "     'Divyanshu':'Me',\n",
    "     'Gunnu':'Cousin'\n",
    "    }"
   ]
  },
  {
   "cell_type": "code",
   "execution_count": 97,
   "id": "4da2f3ee",
   "metadata": {},
   "outputs": [],
   "source": [
    "b = dict(sorted(a.items()))"
   ]
  },
  {
   "cell_type": "code",
   "execution_count": 98,
   "id": "54adb7d7",
   "metadata": {},
   "outputs": [
    {
     "data": {
      "text/plain": [
       "{'Divyanshu': 'Me',\n",
       " 'Gunnu': 'Cousin',\n",
       " 'Radha': 'Godess',\n",
       " 'Ram': 'God',\n",
       " 'Shyam': 'Boy',\n",
       " 'Sita': 'Girls'}"
      ]
     },
     "execution_count": 98,
     "metadata": {},
     "output_type": "execute_result"
    }
   ],
   "source": [
    "b"
   ]
  },
  {
   "cell_type": "markdown",
   "id": "bf5083db",
   "metadata": {},
   "source": [
    "### Program to sort a dictionary based on values in python."
   ]
  },
  {
   "cell_type": "code",
   "execution_count": 2,
   "id": "0aa06fdc",
   "metadata": {},
   "outputs": [],
   "source": [
    "dict2 = {key:value for key, value in sorted(a.items(), key = lambda x:x[1])}"
   ]
  },
  {
   "cell_type": "code",
   "execution_count": 3,
   "id": "d8fd3d6d",
   "metadata": {},
   "outputs": [
    {
     "data": {
      "text/plain": [
       "{'Shyam': 'Boy',\n",
       " 'Gunnu': 'Cousin',\n",
       " 'Sita': 'Girls',\n",
       " 'Ram': 'God',\n",
       " 'Radha': 'Godess',\n",
       " 'Divyanshu': 'Me'}"
      ]
     },
     "execution_count": 3,
     "metadata": {},
     "output_type": "execute_result"
    }
   ],
   "source": [
    "dict2"
   ]
  },
  {
   "cell_type": "code",
   "execution_count": 103,
   "id": "106d945f",
   "metadata": {},
   "outputs": [
    {
     "name": "stdout",
     "output_type": "stream",
     "text": [
      "{0: 0, 1: 1, 2: 8, 3: 27, 4: 64, 5: 125, 6: 216, 7: 343, 8: 512, 9: 729}\n"
     ]
    }
   ],
   "source": [
    "dictionary = {}\n",
    "for n in range(10):\n",
    "    dictionary[n] = n**3\n",
    "print(dictionary)"
   ]
  },
  {
   "cell_type": "code",
   "execution_count": 104,
   "id": "e55b76da",
   "metadata": {},
   "outputs": [],
   "source": [
    "dict3 = {n : n**2 for n in range(10)}"
   ]
  },
  {
   "cell_type": "code",
   "execution_count": 105,
   "id": "f0bbf690",
   "metadata": {},
   "outputs": [
    {
     "data": {
      "text/plain": [
       "{0: 0, 1: 1, 2: 4, 3: 9, 4: 16, 5: 25, 6: 36, 7: 49, 8: 64, 9: 81}"
      ]
     },
     "execution_count": 105,
     "metadata": {},
     "output_type": "execute_result"
    }
   ],
   "source": [
    "dict3"
   ]
  },
  {
   "cell_type": "markdown",
   "id": "5553187a",
   "metadata": {},
   "source": [
    "### Find the pair with a given number in a list. two elements sum to the given number."
   ]
  },
  {
   "cell_type": "code",
   "execution_count": 111,
   "id": "4e38f711",
   "metadata": {},
   "outputs": [],
   "source": [
    "def sum_pair(lis, sum):\n",
    "    for i in range (len(lis)):\n",
    "        for j in range(i, len(lis)):\n",
    "            if lis[i]+lis[j]==sum:\n",
    "                print(f\"{lis[i]}, {lis[j]}\")"
   ]
  },
  {
   "cell_type": "code",
   "execution_count": 112,
   "id": "df31d410",
   "metadata": {},
   "outputs": [
    {
     "name": "stdout",
     "output_type": "stream",
     "text": [
      "2, 6\n"
     ]
    }
   ],
   "source": [
    "sum_pair([23, 45, 54, 3, 54, 64, 23, 23, 12, 1, 2, 6], 8)"
   ]
  },
  {
   "cell_type": "markdown",
   "id": "feadd545",
   "metadata": {},
   "source": [
    "### Create a Fibonacci series using recursion."
   ]
  },
  {
   "cell_type": "code",
   "execution_count": 18,
   "id": "6b7c93ba",
   "metadata": {},
   "outputs": [],
   "source": [
    "def fibo(num):\n",
    "    if num <= 1:\n",
    "        return num\n",
    "    else:\n",
    "        return fibo(num-1)+fibo(num-2)"
   ]
  },
  {
   "cell_type": "code",
   "execution_count": 19,
   "id": "9718d9bd",
   "metadata": {},
   "outputs": [
    {
     "name": "stdout",
     "output_type": "stream",
     "text": [
      "Enter the number: 5\n",
      "0\n",
      "1\n",
      "1\n",
      "2\n",
      "3\n"
     ]
    }
   ],
   "source": [
    "num = int(input(\"Enter the number: \"))\n",
    "if num <= 0:\n",
    "    print(\"Enter the positive number\")\n",
    "else:\n",
    "    for i in range(num):\n",
    "        print(fibo(i))"
   ]
  },
  {
   "cell_type": "code",
   "execution_count": 30,
   "id": "eb056aa0",
   "metadata": {},
   "outputs": [],
   "source": [
    "def fibon(num):\n",
    "    if num <= 1:\n",
    "        return num\n",
    "    else:\n",
    "        return fibon(num-1)+fibon(num-2)"
   ]
  },
  {
   "cell_type": "code",
   "execution_count": 31,
   "id": "4585ebdd",
   "metadata": {},
   "outputs": [
    {
     "name": "stdout",
     "output_type": "stream",
     "text": [
      "Enter the number5\n",
      "0,1,1,2,3,"
     ]
    }
   ],
   "source": [
    "num = int(input(\"Enter the number\"))\n",
    "for i in range(num):\n",
    "    print(fibon(i), end = ',')\n",
    "    "
   ]
  },
  {
   "cell_type": "code",
   "execution_count": 35,
   "id": "550245fe",
   "metadata": {},
   "outputs": [],
   "source": [
    "def fib(num):\n",
    "    if num <= 1:\n",
    "        return num\n",
    "    else:\n",
    "        return fib(num - 1) + fib(num - 2)"
   ]
  },
  {
   "cell_type": "code",
   "execution_count": 37,
   "id": "372bbef0",
   "metadata": {},
   "outputs": [
    {
     "name": "stdout",
     "output_type": "stream",
     "text": [
      "Enter the number5\n",
      "0,1,1,2,3,"
     ]
    }
   ],
   "source": [
    "num = int(input(\"Enter the number\"))\n",
    "for i in range(num):\n",
    "    print(fib(i), end = ',')"
   ]
  },
  {
   "cell_type": "code",
   "execution_count": 42,
   "id": "8cf0dd3c",
   "metadata": {},
   "outputs": [],
   "source": [
    "def fibonacii(num):\n",
    "    if num <= 2:\n",
    "        print(\"please enter number greater than 2\")\n",
    "    else:\n",
    "        a = 0\n",
    "        b = 1\n",
    "        for i in range(num):\n",
    "            print(a)\n",
    "            c = a+b\n",
    "            a = b\n",
    "            b = c\n",
    "            \n",
    "        "
   ]
  },
  {
   "cell_type": "code",
   "execution_count": 43,
   "id": "599a288b",
   "metadata": {},
   "outputs": [
    {
     "name": "stdout",
     "output_type": "stream",
     "text": [
      "0\n",
      "1\n",
      "1\n",
      "2\n",
      "3\n",
      "5\n",
      "8\n",
      "13\n"
     ]
    }
   ],
   "source": [
    "fibonacii(8)"
   ]
  },
  {
   "cell_type": "markdown",
   "id": "659a81b2",
   "metadata": {},
   "source": [
    "### Sort a list without using the keyword Sort."
   ]
  },
  {
   "cell_type": "code",
   "execution_count": 47,
   "id": "79feef7a",
   "metadata": {},
   "outputs": [],
   "source": [
    "def bubble_sort(lst):\n",
    "    for i in range (len(lst)):\n",
    "        for j in range(i+1, len(lst)):\n",
    "            if lst[i]>lst[j]:\n",
    "                lst[i], lst[j] = lst[j], lst[i]\n",
    "    print(lst)"
   ]
  },
  {
   "cell_type": "code",
   "execution_count": 48,
   "id": "e02ec529",
   "metadata": {},
   "outputs": [
    {
     "name": "stdout",
     "output_type": "stream",
     "text": [
      "[1, 2, 3, 6, 12, 23, 23, 23, 45, 54, 54, 64]\n"
     ]
    }
   ],
   "source": [
    "bubble_sort([23, 45, 54, 3, 54, 64, 23, 23, 12, 1, 2, 6])"
   ]
  },
  {
   "cell_type": "code",
   "execution_count": 53,
   "id": "7dc5447e",
   "metadata": {},
   "outputs": [],
   "source": [
    "def pair_sum(lst, sum):\n",
    "    for i in range (len(lst)):\n",
    "        for j in range(i, len(lst)):\n",
    "            if lst[i]+lst[j]==sum:\n",
    "                print(f\"{lst[i]} {lst[j]}\")\n",
    "                break\n",
    "#                 print(f\"{lst[i]} {lst[j]}\")"
   ]
  },
  {
   "cell_type": "code",
   "execution_count": 55,
   "id": "7a48654d",
   "metadata": {},
   "outputs": [
    {
     "name": "stdout",
     "output_type": "stream",
     "text": [
      "23 12\n",
      "22 13\n",
      "23 12\n"
     ]
    }
   ],
   "source": [
    "pair_sum([23, 45, 54, 3, 54, 64, 22, 23, 12, 13, 2, 6], 35)"
   ]
  },
  {
   "cell_type": "code",
   "execution_count": 56,
   "id": "c3cf9ad9",
   "metadata": {},
   "outputs": [],
   "source": [
    "def palin(string):\n",
    "    a = str(string)\n",
    "    return string == string[-1::-1]"
   ]
  },
  {
   "cell_type": "code",
   "execution_count": 59,
   "id": "5507329a",
   "metadata": {},
   "outputs": [
    {
     "data": {
      "text/plain": [
       "False"
      ]
     },
     "execution_count": 59,
     "metadata": {},
     "output_type": "execute_result"
    }
   ],
   "source": [
    "palin('addam')"
   ]
  },
  {
   "cell_type": "markdown",
   "id": "8b18f84e",
   "metadata": {},
   "source": [
    "### String manipulation. \"The Sky is Blue\" to \"Blue is Sky The\""
   ]
  },
  {
   "cell_type": "code",
   "execution_count": 61,
   "id": "76f25139",
   "metadata": {},
   "outputs": [],
   "source": [
    "def string_revert(sentence):\n",
    "    words = sentence.split()\n",
    "    reversed_words = words[-1::-1]\n",
    "    print(f\" {' '. join(words)}    {' '. join(reversed_words)} \")\n",
    "    "
   ]
  },
  {
   "cell_type": "code",
   "execution_count": 62,
   "id": "61106c6f",
   "metadata": {},
   "outputs": [
    {
     "name": "stdout",
     "output_type": "stream",
     "text": [
      " The Sky is Blue    Blue is Sky The \n"
     ]
    }
   ],
   "source": [
    "string_revert( \"The Sky is Blue\")"
   ]
  },
  {
   "cell_type": "markdown",
   "id": "08ad633a",
   "metadata": {},
   "source": [
    "### Find a maximum and minimum value in a List without using any predefined function."
   ]
  },
  {
   "cell_type": "code",
   "execution_count": 68,
   "id": "aafd97bc",
   "metadata": {},
   "outputs": [],
   "source": [
    "def max_min(lst):\n",
    "    for i in range(len(lst)):\n",
    "        for j in range(i+1, len(lst)):\n",
    "            if lst[i]>lst[j]:\n",
    "                lst[i], lst[j] = lst[j], lst[i]\n",
    "    print(f\"maximum value is {lst[-1]} and the minimum value is {lst[0]}\")\n",
    "                "
   ]
  },
  {
   "cell_type": "code",
   "execution_count": 69,
   "id": "e93d478f",
   "metadata": {},
   "outputs": [
    {
     "name": "stdout",
     "output_type": "stream",
     "text": [
      "maximum value is 64 and the minimum value is 2\n"
     ]
    }
   ],
   "source": [
    "max_min([23, 45, 54, 3, 54, 64, 22, 23, 12, 13, 2, 6])"
   ]
  },
  {
   "cell_type": "code",
   "execution_count": 81,
   "id": "31955ad2",
   "metadata": {},
   "outputs": [],
   "source": [
    "def str_count(string):\n",
    "    words = string.split()\n",
    "    for i in words:\n",
    "        print(i,\" = \", words.count(i), 'Times')"
   ]
  },
  {
   "cell_type": "code",
   "execution_count": 99,
   "id": "0be46c18",
   "metadata": {},
   "outputs": [],
   "source": [
    "def str_count(string):\n",
    "    words = string.replace(\",\", \"\").replace(\".\", \"\")\n",
    "    words = string.split()\n",
    "    dict1 = {i: words.count(i) for i in words}\n",
    "    sorted_dict = dict(sorted(dict1.items(), key=lambda item: item[1]))\n",
    "    print(list(sorted_dict.items())[-1])"
   ]
  },
  {
   "cell_type": "code",
   "execution_count": 100,
   "id": "c9c164f3",
   "metadata": {},
   "outputs": [
    {
     "name": "stdout",
     "output_type": "stream",
     "text": [
      "('the', 3)\n"
     ]
    }
   ],
   "source": [
    "str_count('In a quaint, quaint village nestled amid rolling hills, the villagers led simple, simple lives. Their daily routine revolved around routine tasks: tending to the fields, fields of golden wheat swaying in the breeze. Life was serene, serene like a painting that unfolded with each passing day, day after day.')"
   ]
  },
  {
   "cell_type": "code",
   "execution_count": 152,
   "id": "63e22f1d",
   "metadata": {},
   "outputs": [],
   "source": [
    "def fib_gen(num):\n",
    "    a, b=0, 1\n",
    "    count = 0\n",
    "    while count < num:\n",
    "        yield a\n",
    "        c = a+b\n",
    "        a = b\n",
    "        b=c\n",
    "        count += 1\n",
    "            "
   ]
  },
  {
   "cell_type": "code",
   "execution_count": 153,
   "id": "913918bb",
   "metadata": {},
   "outputs": [
    {
     "data": {
      "text/plain": [
       "[0, 1, 1, 2, 3, 5, 8, 13, 21, 34]"
      ]
     },
     "execution_count": 153,
     "metadata": {},
     "output_type": "execute_result"
    }
   ],
   "source": [
    "list(fib_gen(10))"
   ]
  },
  {
   "cell_type": "code",
   "execution_count": 139,
   "id": "27a1d7fa",
   "metadata": {},
   "outputs": [
    {
     "data": {
      "text/plain": [
       "8"
      ]
     },
     "execution_count": 139,
     "metadata": {},
     "output_type": "execute_result"
    }
   ],
   "source": [
    "next(f1)"
   ]
  },
  {
   "cell_type": "code",
   "execution_count": 143,
   "id": "99f01dd9",
   "metadata": {},
   "outputs": [],
   "source": [
    "def lis_sot(lst):\n",
    "    for i in range(len(lst)):\n",
    "        for j in range(i+1, len(lst)):\n",
    "            if lst[i] > lst[j]:\n",
    "                lst[i] , lst[j] = lst[j] , lst[i]\n",
    "    print(lst)"
   ]
  },
  {
   "cell_type": "code",
   "execution_count": 144,
   "id": "7cdc07f3",
   "metadata": {},
   "outputs": [
    {
     "name": "stdout",
     "output_type": "stream",
     "text": [
      "[2, 3, 6, 12, 13, 22, 23, 23, 45, 54, 54, 64]\n"
     ]
    }
   ],
   "source": [
    "lis_sot([23, 45, 54, 3, 54, 64, 22, 23, 12, 13, 2, 6])"
   ]
  },
  {
   "cell_type": "code",
   "execution_count": 145,
   "id": "7fd0b9cf",
   "metadata": {},
   "outputs": [],
   "source": [
    "def palindrome(string):\n",
    "    string = str(string)\n",
    "    return string[-1::-1]==string\n",
    "        "
   ]
  },
  {
   "cell_type": "code",
   "execution_count": 147,
   "id": "2584527c",
   "metadata": {},
   "outputs": [
    {
     "data": {
      "text/plain": [
       "True"
      ]
     },
     "execution_count": 147,
     "metadata": {},
     "output_type": "execute_result"
    }
   ],
   "source": [
    "palindrome('addda')"
   ]
  },
  {
   "cell_type": "code",
   "execution_count": 148,
   "id": "d77cb1bc",
   "metadata": {},
   "outputs": [],
   "source": [
    "def pair_sum(lst, sum):\n",
    "    for i in range(len(lst)):\n",
    "        for j in range(i+1, len(lst)):\n",
    "            if lst[i]+lst[j] == sum:\n",
    "                print(f\"{lst[i]},  {lst[j]}\")"
   ]
  },
  {
   "cell_type": "code",
   "execution_count": 149,
   "id": "8abcad8b",
   "metadata": {},
   "outputs": [
    {
     "name": "stdout",
     "output_type": "stream",
     "text": [
      "23,  12\n",
      "22,  13\n",
      "23,  12\n"
     ]
    }
   ],
   "source": [
    "pair_sum([23, 45, 54, 3, 54, 64, 22, 23, 12, 13, 2, 6], 35)"
   ]
  },
  {
   "cell_type": "code",
   "execution_count": 150,
   "id": "e5c002a5",
   "metadata": {},
   "outputs": [],
   "source": [
    "def recur_fib(n):\n",
    "    if n <= 1:\n",
    "        return n\n",
    "    else: \n",
    "        return recur_fib(n-1)+recur_fib(n-2)\n",
    "            "
   ]
  },
  {
   "cell_type": "code",
   "execution_count": 151,
   "id": "845c4d89",
   "metadata": {},
   "outputs": [
    {
     "data": {
      "text/plain": [
       "21"
      ]
     },
     "execution_count": 151,
     "metadata": {},
     "output_type": "execute_result"
    }
   ],
   "source": [
    "recur_fib(8)"
   ]
  },
  {
   "cell_type": "code",
   "execution_count": 157,
   "id": "7ff13f1b",
   "metadata": {},
   "outputs": [
    {
     "name": "stdout",
     "output_type": "stream",
     "text": [
      "enter the number: 9\n",
      "0, 1, 1, 2, 3, 5, 8, 13, 21, "
     ]
    }
   ],
   "source": [
    "n = int(input(\"enter the number: \"))\n",
    "if num<=2:\n",
    "    print(\"enter larger number\")\n",
    "else:\n",
    "    for i in range (n):\n",
    "        print(recur_fib(i), end = \", \")"
   ]
  },
  {
   "cell_type": "code",
   "execution_count": 158,
   "id": "7ad5f248",
   "metadata": {},
   "outputs": [],
   "source": [
    "def rec_fib(n):\n",
    "    if n <= 1:\n",
    "        return n\n",
    "    else: \n",
    "        return rec_fib(n-1)+rec_fib(n-2)"
   ]
  },
  {
   "cell_type": "code",
   "execution_count": 159,
   "id": "8a3c9a03",
   "metadata": {},
   "outputs": [
    {
     "name": "stdout",
     "output_type": "stream",
     "text": [
      "Enter the number9\n",
      "0, 1, 1, 2, 3, 5, 8, 13, 21, "
     ]
    }
   ],
   "source": [
    "n = int(input(\"Enter the number\"))\n",
    "if n>=2:\n",
    "    for i in range(n):\n",
    "        print(rec_fib(i), end = \", \")"
   ]
  },
  {
   "cell_type": "code",
   "execution_count": 191,
   "id": "5bb4a98e",
   "metadata": {},
   "outputs": [],
   "source": [
    "def rec_fact(n):\n",
    "    if n == 0:\n",
    "        return 1\n",
    "    return n * rec_fib(n-1)\n",
    "\n",
    "result = rec_fact(5)"
   ]
  },
  {
   "cell_type": "code",
   "execution_count": 192,
   "id": "c2156416",
   "metadata": {},
   "outputs": [
    {
     "name": "stdout",
     "output_type": "stream",
     "text": [
      "15\n"
     ]
    }
   ],
   "source": [
    "result = rec_fact(5)\n",
    "print(result)"
   ]
  },
  {
   "cell_type": "code",
   "execution_count": null,
   "id": "361fc68f",
   "metadata": {},
   "outputs": [],
   "source": []
  },
  {
   "cell_type": "code",
   "execution_count": 185,
   "id": "ef1e5531",
   "metadata": {},
   "outputs": [
    {
     "name": "stdout",
     "output_type": "stream",
     "text": [
      "120\n"
     ]
    }
   ],
   "source": [
    "def fact (n) :\n",
    "    if n==0:\n",
    "\n",
    "        return 1\n",
    "    return n * fact (n-1)\n",
    "result = fact(5)\n",
    "print (result)"
   ]
  },
  {
   "cell_type": "code",
   "execution_count": 206,
   "id": "e9cce0f4",
   "metadata": {},
   "outputs": [],
   "source": [
    "my_dict = dict(sorted(a.items(), key=lambda item:item[1]))"
   ]
  },
  {
   "cell_type": "code",
   "execution_count": 207,
   "id": "b8259b14",
   "metadata": {},
   "outputs": [
    {
     "data": {
      "text/plain": [
       "{'Shyam': 'Boy',\n",
       " 'Gunnu': 'Cousin',\n",
       " 'Sita': 'Girls',\n",
       " 'Ram': 'God',\n",
       " 'Radha': 'Godess',\n",
       " 'Divyanshu': 'Me'}"
      ]
     },
     "execution_count": 207,
     "metadata": {},
     "output_type": "execute_result"
    }
   ],
   "source": [
    "my_dict"
   ]
  },
  {
   "cell_type": "code",
   "execution_count": 204,
   "id": "90ef669e",
   "metadata": {},
   "outputs": [
    {
     "data": {
      "text/plain": [
       "{'Ram': 'God',\n",
       " 'Shyam': 'Boy',\n",
       " 'Radha': 'Godess',\n",
       " 'Sita': 'Girls',\n",
       " 'Divyanshu': 'Me',\n",
       " 'Gunnu': 'Cousin'}"
      ]
     },
     "execution_count": 204,
     "metadata": {},
     "output_type": "execute_result"
    }
   ],
   "source": [
    "a"
   ]
  },
  {
   "cell_type": "code",
   "execution_count": 215,
   "id": "3eaeca05",
   "metadata": {},
   "outputs": [],
   "source": [
    "my_dict1 = dict(sorted(a.items(), key=lambda item:item[1]))"
   ]
  },
  {
   "cell_type": "code",
   "execution_count": 216,
   "id": "57eaa033",
   "metadata": {},
   "outputs": [
    {
     "data": {
      "text/plain": [
       "{'Shyam': 'Boy',\n",
       " 'Gunnu': 'Cousin',\n",
       " 'Sita': 'Girls',\n",
       " 'Ram': 'God',\n",
       " 'Radha': 'Godess',\n",
       " 'Divyanshu': 'Me'}"
      ]
     },
     "execution_count": 216,
     "metadata": {},
     "output_type": "execute_result"
    }
   ],
   "source": [
    "my_dict1"
   ]
  },
  {
   "cell_type": "code",
   "execution_count": 227,
   "id": "3c4e2f3c",
   "metadata": {},
   "outputs": [],
   "source": [
    "def feb_recur(n):\n",
    "    if n <=1:\n",
    "        return n\n",
    "    else:\n",
    "        return feb_recur(n-1)+feb_recur(n-2)"
   ]
  },
  {
   "cell_type": "code",
   "execution_count": 228,
   "id": "bfd4a967",
   "metadata": {},
   "outputs": [
    {
     "name": "stdout",
     "output_type": "stream",
     "text": [
      "0, 1, 1, 2, 3, "
     ]
    }
   ],
   "source": [
    "for i in range(5):\n",
    "    print(feb_recur(i), end = \", \")"
   ]
  },
  {
   "cell_type": "markdown",
   "id": "7f498912",
   "metadata": {},
   "source": [
    "### Create a Fibonacci series using recursion."
   ]
  },
  {
   "cell_type": "code",
   "execution_count": 229,
   "id": "7a5112e9",
   "metadata": {},
   "outputs": [],
   "source": [
    "def rec_fibonacci(n):\n",
    "    if n <= 1:\n",
    "        return n\n",
    "    else:\n",
    "        return rec_fibonacci(n-1) + rec_fibonacci(n-2)"
   ]
  },
  {
   "cell_type": "code",
   "execution_count": 231,
   "id": "760e9faf",
   "metadata": {},
   "outputs": [
    {
     "name": "stdout",
     "output_type": "stream",
     "text": [
      "0, 1, 1, 2, 3, 5, 8, 13, "
     ]
    }
   ],
   "source": [
    "for i in range(8):\n",
    "    print(rec_fibonacci(i), end = \", \")"
   ]
  },
  {
   "cell_type": "markdown",
   "id": "d30e08ca",
   "metadata": {},
   "source": [
    "### String manipulation. \"The Sky is Blue\" to \"Blue is The Sky\""
   ]
  },
  {
   "cell_type": "code",
   "execution_count": 238,
   "id": "c99adb68",
   "metadata": {},
   "outputs": [],
   "source": [
    "def str_rev(string):\n",
    "    list1 = string.split()\n",
    "    rev_sentence = \" \".join(list1[::-1])\n",
    "    return rev_sentence"
   ]
  },
  {
   "cell_type": "code",
   "execution_count": 239,
   "id": "d3fb45b5",
   "metadata": {},
   "outputs": [
    {
     "data": {
      "text/plain": [
       "'Blue is Sky The'"
      ]
     },
     "execution_count": 239,
     "metadata": {},
     "output_type": "execute_result"
    }
   ],
   "source": [
    "str_rev(\"The Sky is Blue\")"
   ]
  },
  {
   "cell_type": "markdown",
   "id": "3eece854",
   "metadata": {},
   "source": [
    "### Find the maximum repeated character in a string without having o(n2) complexity."
   ]
  },
  {
   "cell_type": "code",
   "execution_count": 240,
   "id": "9b98d95b",
   "metadata": {},
   "outputs": [],
   "source": [
    "Hello my name is divyanshu kumar. Divyanshu kumar studied in iNeuron. I know about\n",
    "iNeuron from my teacher.Some of the best teacher names of iNeuron are Sunny, Krishna,\n",
    "and Sudhanshu Sir."
   ]
  },
  {
   "cell_type": "code",
   "execution_count": 263,
   "id": "38ff51d2",
   "metadata": {},
   "outputs": [],
   "source": [
    "def max_char(string):\n",
    "    new_string = string.replace(\",\", \" \").replace(\".\", \" \")\n",
    "    words = new_string.split()\n",
    "    word_dict = {i: words.count(i) for i in words}\n",
    "    sorted_dict = dict(sorted(word_dict.items(), key=lambda item:item[1]))\n",
    "    return list(sorted_dict.items())[-1]"
   ]
  },
  {
   "cell_type": "code",
   "execution_count": 264,
   "id": "ff008cfd",
   "metadata": {},
   "outputs": [
    {
     "data": {
      "text/plain": [
       "('iNeuron', 3)"
      ]
     },
     "execution_count": 264,
     "metadata": {},
     "output_type": "execute_result"
    }
   ],
   "source": [
    "max_char(\"Hello my name is divyanshu kumar. Divyanshu kumar studied in iNeuron. I know about iNeuron from my teacher. Some of the best teacher names of iNeuron are Sunny, Krishna, and Sudhanshu Sir.\")"
   ]
  },
  {
   "cell_type": "markdown",
   "id": "37f4fd4c",
   "metadata": {},
   "source": [
    "### Find a maximum and minimum value in a List without using any predefined function."
   ]
  },
  {
   "cell_type": "code",
   "execution_count": 58,
   "id": "9eaa4c44",
   "metadata": {},
   "outputs": [],
   "source": [
    "# @tictoc\n",
    "def max_min(lst):\n",
    "    for i in range(len(lst)):\n",
    "        for j in range(i+1, len(lst)):\n",
    "            if lst[i] > lst[j]:\n",
    "                lst[i], lst[j] = lst[j], lst[i]\n",
    "    print(f\"Minimum number is {lst[0]} and Maximum number is {lst[-1]}\")\n",
    "                "
   ]
  },
  {
   "cell_type": "code",
   "execution_count": 59,
   "id": "ed586109",
   "metadata": {},
   "outputs": [
    {
     "name": "stdout",
     "output_type": "stream",
     "text": [
      "Minimum number is 2 and Maximum number is 64\n"
     ]
    }
   ],
   "source": [
    "max_min([23, 45, 54, 3, 54, 64, 22, 23, 12, 13, 2, 6])\n"
   ]
  },
  {
   "cell_type": "markdown",
   "id": "a51075db",
   "metadata": {},
   "source": [
    "### Write a code to raise an exception."
   ]
  },
  {
   "cell_type": "code",
   "execution_count": 4,
   "id": "50b31d72",
   "metadata": {},
   "outputs": [
    {
     "ename": "Exception",
     "evalue": "we found 23 in list",
     "output_type": "error",
     "traceback": [
      "\u001b[1;31m---------------------------------------------------------------------------\u001b[0m",
      "\u001b[1;31mException\u001b[0m                                 Traceback (most recent call last)",
      "Cell \u001b[1;32mIn[4], line 5\u001b[0m\n\u001b[0;32m      3\u001b[0m \u001b[38;5;28;01mfor\u001b[39;00m i \u001b[38;5;129;01min\u001b[39;00m l:\n\u001b[0;32m      4\u001b[0m     \u001b[38;5;28;01mif\u001b[39;00m i \u001b[38;5;241m==\u001b[39m m:\n\u001b[1;32m----> 5\u001b[0m         \u001b[38;5;28;01mraise\u001b[39;00m \u001b[38;5;167;01mException\u001b[39;00m(\u001b[38;5;124mf\u001b[39m\u001b[38;5;124m\"\u001b[39m\u001b[38;5;124mwe found \u001b[39m\u001b[38;5;132;01m{\u001b[39;00mm\u001b[38;5;132;01m}\u001b[39;00m\u001b[38;5;124m in list\u001b[39m\u001b[38;5;124m\"\u001b[39m)\n",
      "\u001b[1;31mException\u001b[0m: we found 23 in list"
     ]
    }
   ],
   "source": [
    "l= [23, 45, 54, 3, 54, 64, 22, 23, 12, 13, 2, 6]\n",
    "m = 23\n",
    "for i in l:\n",
    "    if i == m:\n",
    "        raise Exception(f\"we found {m} in list\")"
   ]
  },
  {
   "cell_type": "code",
   "execution_count": 12,
   "id": "dd466b38",
   "metadata": {},
   "outputs": [],
   "source": [
    "number = [23, 45, 54, 3, 54, 64, 22, 23, 12, 13, 2, 6]\n",
    "result = list(filter(lambda x: x%2==0, number))"
   ]
  },
  {
   "cell_type": "code",
   "execution_count": 13,
   "id": "d59b49a1",
   "metadata": {},
   "outputs": [
    {
     "name": "stdout",
     "output_type": "stream",
     "text": [
      "[54, 54, 64, 22, 12, 2, 6]\n"
     ]
    }
   ],
   "source": [
    "print(result)"
   ]
  },
  {
   "cell_type": "code",
   "execution_count": 16,
   "id": "17099649",
   "metadata": {},
   "outputs": [],
   "source": [
    "parinaam = list(map(lambda x:x**2, number))"
   ]
  },
  {
   "cell_type": "code",
   "execution_count": 17,
   "id": "a9b299bf",
   "metadata": {},
   "outputs": [
    {
     "data": {
      "text/plain": [
       "[529, 2025, 2916, 9, 2916, 4096, 484, 529, 144, 169, 4, 36]"
      ]
     },
     "execution_count": 17,
     "metadata": {},
     "output_type": "execute_result"
    }
   ],
   "source": [
    "parinaam"
   ]
  },
  {
   "cell_type": "code",
   "execution_count": 18,
   "id": "3e9f4375",
   "metadata": {},
   "outputs": [],
   "source": [
    "num_pair = number = [(23, 45), (54, 3), (54, 64), (22, 23), (12, 13), (2, 6)]\n",
    "result1 = sorted(num_pair, key=lambda x:x[1])"
   ]
  },
  {
   "cell_type": "code",
   "execution_count": 19,
   "id": "e52c52b8",
   "metadata": {},
   "outputs": [
    {
     "data": {
      "text/plain": [
       "[(54, 3), (2, 6), (12, 13), (22, 23), (23, 45), (54, 64)]"
      ]
     },
     "execution_count": 19,
     "metadata": {},
     "output_type": "execute_result"
    }
   ],
   "source": [
    "result1"
   ]
  },
  {
   "cell_type": "code",
   "execution_count": 20,
   "id": "dd399641",
   "metadata": {},
   "outputs": [],
   "source": [
    "neg_number = [23, -45, 54, -3, -54, 64, 22, -23, -12, 13, -2, 6]\n",
    "abs_num = list(map(lambda x:abs(x), neg_number))\n"
   ]
  },
  {
   "cell_type": "code",
   "execution_count": 21,
   "id": "29d56bdb",
   "metadata": {},
   "outputs": [
    {
     "data": {
      "text/plain": [
       "[23, 45, 54, 3, 54, 64, 22, 23, 12, 13, 2, 6]"
      ]
     },
     "execution_count": 21,
     "metadata": {},
     "output_type": "execute_result"
    }
   ],
   "source": [
    "abs_num"
   ]
  },
  {
   "cell_type": "code",
   "execution_count": 24,
   "id": "0f1a8691",
   "metadata": {},
   "outputs": [],
   "source": [
    "ap_ex = [23, 45, 54, 3, 54, 64, 22, 23, 12, 13, 2, 6]\n",
    "\n",
    "ap_ex.extend(['abcd'])\n",
    "\n",
    "\n"
   ]
  },
  {
   "cell_type": "code",
   "execution_count": 25,
   "id": "26b6ec5d",
   "metadata": {},
   "outputs": [
    {
     "data": {
      "text/plain": [
       "[23, 45, 54, 3, 54, 64, 22, 23, 12, 13, 2, 6, 'abcd']"
      ]
     },
     "execution_count": 25,
     "metadata": {},
     "output_type": "execute_result"
    }
   ],
   "source": [
    "ap_ex"
   ]
  },
  {
   "cell_type": "code",
   "execution_count": 27,
   "id": "a50061e9",
   "metadata": {},
   "outputs": [],
   "source": [
    "ap_ex.extend([2, 3, 4, 6])"
   ]
  },
  {
   "cell_type": "code",
   "execution_count": 28,
   "id": "b598797e",
   "metadata": {},
   "outputs": [
    {
     "data": {
      "text/plain": [
       "[23, 45, 54, 3, 54, 64, 22, 23, 12, 13, 2, 6, 'abcd', 2, 3, 4, 6]"
      ]
     },
     "execution_count": 28,
     "metadata": {},
     "output_type": "execute_result"
    }
   ],
   "source": [
    "ap_ex"
   ]
  },
  {
   "cell_type": "code",
   "execution_count": 33,
   "id": "91ecad60",
   "metadata": {},
   "outputs": [
    {
     "ename": "IndentationError",
     "evalue": "unindent does not match any outer indentation level (<tokenize>, line 9)",
     "output_type": "error",
     "traceback": [
      "\u001b[1;36m  File \u001b[1;32m<tokenize>:9\u001b[1;36m\u001b[0m\n\u001b[1;33m    return decorator()\u001b[0m\n\u001b[1;37m    ^\u001b[0m\n\u001b[1;31mIndentationError\u001b[0m\u001b[1;31m:\u001b[0m unindent does not match any outer indentation level\n"
     ]
    }
   ],
   "source": [
    "def my_custom_decorator(lst):\n",
    "    def decorator():\n",
    "        for i in range(len(lst)):\n",
    "            for j in range (i+1, len(lst)):\n",
    "                if lst[i]>lst[j]:\n",
    "                    lst[i], lst[j]=lst[j], lst[i]\n",
    "        print(lst)\n",
    "        \n",
    "    \n",
    "        return \"This is a function inside a function and this is called a decorator is python.\"\n",
    "     return decorator()"
   ]
  },
  {
   "cell_type": "code",
   "execution_count": 35,
   "id": "908e210d",
   "metadata": {},
   "outputs": [
    {
     "name": "stdout",
     "output_type": "stream",
     "text": [
      "Sorted List: [2, 3, 6, 12, 13, 22, 23, 23, 45, 54, 54, 64]\n",
      "This is a function inside a function and this is called a decorator in Python.\n"
     ]
    }
   ],
   "source": [
    "def my_custom_decorator(func):\n",
    "    def wrapper(lst):\n",
    "        for i in range(len(lst)):\n",
    "            for j in range(i + 1, len(lst)):\n",
    "                if lst[i] > lst[j]:\n",
    "                    lst[i], lst[j] = lst[j], lst[i]\n",
    "        print(\"Sorted List:\", lst)\n",
    "        result = func(lst)\n",
    "        return result\n",
    "\n",
    "    return wrapper\n",
    "\n",
    "@my_custom_decorator\n",
    "def example_function(lst):\n",
    "    return \"This is a function inside a function and this is called a decorator in Python.\"\n",
    "\n",
    "# Example usage\n",
    "result = example_function([23, 45, 54, 3, 54, 64, 22, 23, 12, 13, 2, 6])\n",
    "print(result)\n"
   ]
  },
  {
   "cell_type": "code",
   "execution_count": 36,
   "id": "e38b2a35",
   "metadata": {},
   "outputs": [
    {
     "name": "stdout",
     "output_type": "stream",
     "text": [
      "decorate\n"
     ]
    }
   ],
   "source": [
    "print('decorate')"
   ]
  },
  {
   "cell_type": "code",
   "execution_count": 37,
   "id": "a8287b34",
   "metadata": {},
   "outputs": [],
   "source": [
    "def hello():\n",
    "    print(\"Hello World\")"
   ]
  },
  {
   "cell_type": "code",
   "execution_count": 38,
   "id": "3df40ec9",
   "metadata": {},
   "outputs": [
    {
     "name": "stdout",
     "output_type": "stream",
     "text": [
      "Hello World\n"
     ]
    }
   ],
   "source": [
    "hello()"
   ]
  },
  {
   "cell_type": "code",
   "execution_count": 49,
   "id": "21da3c24",
   "metadata": {},
   "outputs": [],
   "source": [
    "def greet(fx):\n",
    "    def mfx():\n",
    "        print(\"Good Morning\")\n",
    "        fx()\n",
    "        print(\"Thanks for using this function\")\n",
    "    return mfx"
   ]
  },
  {
   "cell_type": "code",
   "execution_count": 50,
   "id": "91a4499a",
   "metadata": {},
   "outputs": [],
   "source": [
    "@greet\n",
    "def add(a, b):\n",
    "    print(a+b)"
   ]
  },
  {
   "cell_type": "code",
   "execution_count": 51,
   "id": "b40aaae1",
   "metadata": {},
   "outputs": [],
   "source": [
    "@greet\n",
    "def hello():\n",
    "    print(\"Hello World\")"
   ]
  },
  {
   "cell_type": "code",
   "execution_count": 52,
   "id": "6be2fb6e",
   "metadata": {},
   "outputs": [
    {
     "name": "stdout",
     "output_type": "stream",
     "text": [
      "Good Morning\n",
      "Hello World\n",
      "Thanks for using this function\n"
     ]
    }
   ],
   "source": [
    "hello()"
   ]
  },
  {
   "cell_type": "code",
   "execution_count": 53,
   "id": "7810c9b1",
   "metadata": {},
   "outputs": [
    {
     "name": "stdout",
     "output_type": "stream",
     "text": [
      "Good Morning\n",
      "Good Morning\n",
      "Hello World\n",
      "Thanks for using this function\n",
      "Thanks for using this function\n"
     ]
    }
   ],
   "source": [
    "greet(hello)()"
   ]
  },
  {
   "cell_type": "code",
   "execution_count": 55,
   "id": "cceb43f7",
   "metadata": {},
   "outputs": [],
   "source": [
    "import time\n",
    "def tictoc(func):\n",
    "    def wrapper():\n",
    "        t1 = time.time()\n",
    "        func()\n",
    "        t2 = time.time()-t1\n",
    "        print(f\"This Function took {t2} seconds to execute\")\n",
    "    return wrapper"
   ]
  },
  {
   "cell_type": "code",
   "execution_count": 60,
   "id": "5bdc54a9",
   "metadata": {},
   "outputs": [],
   "source": [
    "@tictoc\n",
    "def do_this():\n",
    "    time.sleep(2.5)"
   ]
  },
  {
   "cell_type": "code",
   "execution_count": 62,
   "id": "b5ed1b0c",
   "metadata": {},
   "outputs": [
    {
     "name": "stdout",
     "output_type": "stream",
     "text": [
      "This Function took 2.507439374923706 seconds to execute\n"
     ]
    }
   ],
   "source": [
    "do_this()"
   ]
  },
  {
   "cell_type": "code",
   "execution_count": 63,
   "id": "9462d4a4",
   "metadata": {},
   "outputs": [],
   "source": [
    "def tictoc(func):\n",
    "    def wrapper():\n",
    "        t1 = time.time()\n",
    "        func()\n",
    "        t2 = time.time() - t1\n",
    "        print(f\"This function took {t2} seconds\")\n",
    "    return wrapper"
   ]
  },
  {
   "cell_type": "code",
   "execution_count": 31,
   "id": "d01b218e",
   "metadata": {},
   "outputs": [],
   "source": [
    "import time\n",
    "def time1(func):\n",
    "    def wrapper():\n",
    "        t1 = time.time()\n",
    "        func()\n",
    "        t2 = time.time()-t1\n",
    "        print(f\"This function took {t2} seconds\")\n",
    "    return wrapper"
   ]
  },
  {
   "cell_type": "code",
   "execution_count": 38,
   "id": "18e5fcf0",
   "metadata": {},
   "outputs": [
    {
     "ename": "NameError",
     "evalue": "name 'time1' is not defined",
     "output_type": "error",
     "traceback": [
      "\u001b[1;31m---------------------------------------------------------------------------\u001b[0m",
      "\u001b[1;31mNameError\u001b[0m                                 Traceback (most recent call last)",
      "Cell \u001b[1;32mIn[38], line 1\u001b[0m\n\u001b[1;32m----> 1\u001b[0m \u001b[38;5;129m@time1\u001b[39m\n\u001b[0;32m      2\u001b[0m \u001b[38;5;28;01mdef\u001b[39;00m \u001b[38;5;21mlist_square\u001b[39m():\n\u001b[0;32m      3\u001b[0m     list1 \u001b[38;5;241m=\u001b[39m \u001b[38;5;28minput\u001b[39m(\u001b[38;5;124m\"\u001b[39m\u001b[38;5;124mEnter the list\u001b[39m\u001b[38;5;124m\"\u001b[39m)\n\u001b[0;32m      4\u001b[0m     l2 \u001b[38;5;241m=\u001b[39m \u001b[38;5;28mlist\u001b[39m(\u001b[38;5;28mmap\u001b[39m(\u001b[38;5;28mint\u001b[39m, list1\u001b[38;5;241m.\u001b[39msplit(\u001b[38;5;124m'\u001b[39m\u001b[38;5;124m,\u001b[39m\u001b[38;5;124m'\u001b[39m)))\n",
      "\u001b[1;31mNameError\u001b[0m: name 'time1' is not defined"
     ]
    }
   ],
   "source": [
    "@time1\n",
    "def list_square():\n",
    "    list1 = input(\"Enter the list\")\n",
    "    l2 = list(map(int, list1.split(',')))\n",
    "    l3 = list(map(lambda x:x*x, l2))\n",
    "    print(l3)"
   ]
  },
  {
   "cell_type": "code",
   "execution_count": null,
   "id": "785aced9",
   "metadata": {},
   "outputs": [],
   "source": [
    "list_square()"
   ]
  },
  {
   "cell_type": "code",
   "execution_count": 34,
   "id": "90cc8a9d",
   "metadata": {},
   "outputs": [],
   "source": [
    "@time1\n",
    "def list_even():\n",
    "    list1 = input(\"Enter the list\")\n",
    "    l2 = list(map(int, list1.split(',')))\n",
    "    l3 = list(filter(lambda x:x%2==0, l2))\n",
    "    print(l3)"
   ]
  },
  {
   "cell_type": "code",
   "execution_count": 35,
   "id": "fea3f9f4",
   "metadata": {},
   "outputs": [
    {
     "name": "stdout",
     "output_type": "stream",
     "text": [
      "Enter the list23, 45, 54, 3, 54, 64, 22, 23, 12, 13, 2, 6\n",
      "[54, 54, 64, 22, 12, 2, 6]\n",
      "This function took 2.8951284885406494 seconds\n"
     ]
    }
   ],
   "source": [
    "list_even()"
   ]
  },
  {
   "cell_type": "code",
   "execution_count": 43,
   "id": "ae22cb7b",
   "metadata": {},
   "outputs": [],
   "source": [
    "str1=\" / *apples are found% only Igred & green\"\n",
    "\n",
    "result = filter(lambda char: char.isalnum() or char.isspace() or char == '&', str1)\n",
    "modified_string = \"\".join(result)"
   ]
  },
  {
   "cell_type": "code",
   "execution_count": 44,
   "id": "5e2e03aa",
   "metadata": {},
   "outputs": [
    {
     "data": {
      "text/plain": [
       "'  apples are found only Igred & green'"
      ]
     },
     "execution_count": 44,
     "metadata": {},
     "output_type": "execute_result"
    }
   ],
   "source": [
    "modified_string"
   ]
  },
  {
   "cell_type": "code",
   "execution_count": 47,
   "id": "5b81764e",
   "metadata": {},
   "outputs": [
    {
     "name": "stdout",
     "output_type": "stream",
     "text": [
      "{'i': 4, 't': 2, 'n': 5, 'y': 1, 'h': 2}\n",
      "n\n"
     ]
    }
   ],
   "source": [
    "s = 'itininiytnnhhn'\n",
    "ch = {}\n",
    "for i in s:\n",
    "    if i in ch:\n",
    "        ch[i] += 1\n",
    "    else :\n",
    "        ch[i] = 1\n",
    "print(ch)\n",
    "max_char = max(ch, key = ch.get)\n",
    "print(max_char)\n"
   ]
  },
  {
   "cell_type": "code",
   "execution_count": 53,
   "id": "cfa53105",
   "metadata": {},
   "outputs": [
    {
     "name": "stdout",
     "output_type": "stream",
     "text": [
      "{'/': 1, '*': 1, 'a': 2, 'p': 2, 'l': 2, 'e': 5, 's': 1, 'r': 3, 'f': 1, 'o': 2, 'u': 1, 'n': 3, 'd': 2, '%': 1, 'y': 1, 'I': 1, 'g': 2, '&': 1}\n",
      "e\n"
     ]
    }
   ],
   "source": [
    "s = ' / *apples are found% only Igred & green'\n",
    "ch = {}\n",
    "for i in s:\n",
    "    if i == \" \":\n",
    "        pass\n",
    "    elif i in ch:\n",
    "        ch[i] += 1\n",
    "    else :\n",
    "        ch[i] = 1\n",
    "print(ch)\n",
    "max_char = max(ch, key = ch.get)\n",
    "print(max_char)\n"
   ]
  },
  {
   "cell_type": "markdown",
   "id": "ed48d46b",
   "metadata": {},
   "source": [
    "### How You Create Parameterized Decorator?"
   ]
  },
  {
   "cell_type": "code",
   "execution_count": 54,
   "id": "092f7aef",
   "metadata": {},
   "outputs": [
    {
     "name": "stdout",
     "output_type": "stream",
     "text": [
      "Adding 3 and 7 gives: 10\n"
     ]
    },
    {
     "data": {
      "text/plain": [
       "10"
      ]
     },
     "execution_count": 54,
     "metadata": {},
     "output_type": "execute_result"
    }
   ],
   "source": [
    "def add_decorator(func):\n",
    "    def wrapper(a, b):\n",
    "        result = func(a, b)\n",
    "        print(f\"Adding {a} and {b} gives: {result}\")\n",
    "        return result\n",
    "\n",
    "    return wrapper\n",
    "\n",
    "@add_decorator\n",
    "def add_numbers(x, y):\n",
    "    return x + y\n",
    "\n",
    "# Call the decorated function\n",
    "add_numbers(3, 7)\n"
   ]
  },
  {
   "cell_type": "code",
   "execution_count": 2,
   "id": "e84fc3e4",
   "metadata": {},
   "outputs": [],
   "source": [
    "def print_name(name):\n",
    "    print(\"*\"*len(name))\n",
    "    print(name)\n",
    "    print(\"*\"*len(name))"
   ]
  },
  {
   "cell_type": "code",
   "execution_count": 3,
   "id": "6b404e90",
   "metadata": {},
   "outputs": [
    {
     "name": "stdout",
     "output_type": "stream",
     "text": [
      "***************\n",
      "Divyanshu kumar\n",
      "***************\n"
     ]
    }
   ],
   "source": [
    "print_name(\"Divyanshu kumar\")"
   ]
  },
  {
   "cell_type": "code",
   "execution_count": 9,
   "id": "e6444f15",
   "metadata": {},
   "outputs": [],
   "source": [
    "@prettify\n",
    "def print_city(city):\n",
    "#     print(\"*\"*len(city))\n",
    "    print(city)\n",
    "#     print(\"*\"*len(city))"
   ]
  },
  {
   "cell_type": "code",
   "execution_count": 10,
   "id": "57e4feb0",
   "metadata": {},
   "outputs": [
    {
     "name": "stdout",
     "output_type": "stream",
     "text": [
      "****\n",
      "Gaya\n",
      "****\n"
     ]
    }
   ],
   "source": [
    "print_city(\"Gaya\")"
   ]
  },
  {
   "cell_type": "code",
   "execution_count": 8,
   "id": "215f131e",
   "metadata": {},
   "outputs": [],
   "source": [
    "def prettify(func):\n",
    "    def wrapper(text):\n",
    "        print(\"*\"*len(text))\n",
    "        func(text)\n",
    "        print(\"*\"*len(text))\n",
    "    return wrapper       "
   ]
  },
  {
   "cell_type": "code",
   "execution_count": null,
   "id": "4e0c68b0",
   "metadata": {},
   "outputs": [],
   "source": []
  },
  {
   "cell_type": "code",
   "execution_count": 11,
   "id": "0db7f75f",
   "metadata": {},
   "outputs": [],
   "source": [
    "def decor(func):\n",
    "    def wrapper(text):\n",
    "        print(\"*\"*len(text))\n",
    "        func(text)\n",
    "        print(\"*\"*len(text))\n",
    "        \n",
    "    return wrapper"
   ]
  },
  {
   "cell_type": "code",
   "execution_count": 14,
   "id": "29b23e28",
   "metadata": {},
   "outputs": [],
   "source": [
    "@decor\n",
    "def list_even(list1):\n",
    "    l3 = list(filter(lambda x:x%2==0, list1))\n",
    "    print(l3)"
   ]
  },
  {
   "cell_type": "code",
   "execution_count": 15,
   "id": "4beb1c09",
   "metadata": {},
   "outputs": [
    {
     "name": "stdout",
     "output_type": "stream",
     "text": [
      "************\n",
      "[54, 54, 64, 22, 12, 2, 6]\n",
      "************\n"
     ]
    }
   ],
   "source": [
    "list_even([23, 45, 54, 3, 54, 64, 22, 23, 12, 13, 2, 6])"
   ]
  },
  {
   "cell_type": "code",
   "execution_count": 20,
   "id": "a9f87cdf",
   "metadata": {},
   "outputs": [],
   "source": [
    "def decorate(func):\n",
    "    def wrapper(text):\n",
    "        print(\"*\"*(2*len(text)))\n",
    "        func(text)\n",
    "        print(\"*\"*(2*len(text)))\n",
    "    return wrapper"
   ]
  },
  {
   "cell_type": "code",
   "execution_count": 21,
   "id": "e624ba8a",
   "metadata": {},
   "outputs": [],
   "source": [
    "@decorate\n",
    "def list_even(list1):\n",
    "    l3 = list(filter(lambda x:x%2==0, list1))\n",
    "    print(l3)\n"
   ]
  },
  {
   "cell_type": "code",
   "execution_count": 22,
   "id": "a1fb0f88",
   "metadata": {},
   "outputs": [],
   "source": [
    "def add_decorator(func):\n",
    "    def wrapper(a, b):\n",
    "        result = func(a, b)\n",
    "        print(f\"Adding {a} and {b} gives : {result}\")\n",
    "        return result\n",
    "    return wrapper"
   ]
  },
  {
   "cell_type": "code",
   "execution_count": 23,
   "id": "3504fb46",
   "metadata": {},
   "outputs": [],
   "source": [
    "@add_decorator\n",
    "def add_number(x, y):\n",
    "    return x+y"
   ]
  },
  {
   "cell_type": "code",
   "execution_count": 24,
   "id": "caffa052",
   "metadata": {},
   "outputs": [
    {
     "name": "stdout",
     "output_type": "stream",
     "text": [
      "Adding 9 and 5 gives : 14\n"
     ]
    },
    {
     "data": {
      "text/plain": [
       "14"
      ]
     },
     "execution_count": 24,
     "metadata": {},
     "output_type": "execute_result"
    }
   ],
   "source": [
    "add_number(9, 5)"
   ]
  },
  {
   "cell_type": "code",
   "execution_count": 32,
   "id": "86c51a55",
   "metadata": {},
   "outputs": [],
   "source": [
    "def para_deco(symbol):\n",
    "    def sub_decor(func):\n",
    "        def wrapper(x, y):\n",
    "            print(symbol*(x+y))\n",
    "            result = func(x, y)\n",
    "            print(result)\n",
    "            print(symbol*(x+y))\n",
    "            return result\n",
    "        return wrapper\n",
    "    return sub_decor"
   ]
  },
  {
   "cell_type": "code",
   "execution_count": 36,
   "id": "6d75b7b0",
   "metadata": {},
   "outputs": [],
   "source": [
    "@para_deco('*')\n",
    "def add(x, y):\n",
    "    return x+y"
   ]
  },
  {
   "cell_type": "code",
   "execution_count": 37,
   "id": "1f1007c3",
   "metadata": {},
   "outputs": [
    {
     "name": "stdout",
     "output_type": "stream",
     "text": [
      "**********************\n",
      "22\n",
      "**********************\n"
     ]
    },
    {
     "data": {
      "text/plain": [
       "22"
      ]
     },
     "execution_count": 37,
     "metadata": {},
     "output_type": "execute_result"
    }
   ],
   "source": [
    "add(10, 12)"
   ]
  },
  {
   "cell_type": "code",
   "execution_count": 42,
   "id": "36415d7b",
   "metadata": {},
   "outputs": [],
   "source": [
    "import time\n",
    "def decorator(func):\n",
    "    def wrapper():\n",
    "        t1 = time.time()\n",
    "        func()\n",
    "        t2 = time.time()-t1\n",
    "        return t2\n",
    "    return wrapper"
   ]
  },
  {
   "cell_type": "code",
   "execution_count": 43,
   "id": "55713576",
   "metadata": {},
   "outputs": [],
   "source": [
    "@decorator\n",
    "def do_this():\n",
    "    time.sleep(2.5)"
   ]
  },
  {
   "cell_type": "code",
   "execution_count": 44,
   "id": "349ffe31",
   "metadata": {},
   "outputs": [
    {
     "data": {
      "text/plain": [
       "2.5035316944122314"
      ]
     },
     "execution_count": 44,
     "metadata": {},
     "output_type": "execute_result"
    }
   ],
   "source": [
    "do_this()"
   ]
  },
  {
   "cell_type": "code",
   "execution_count": 53,
   "id": "83061d81",
   "metadata": {},
   "outputs": [],
   "source": [
    "def decorate(func):\n",
    "    def wrapper(x, y):\n",
    "        result = x+y\n",
    "        print(f'{result}')\n",
    "        \n",
    "    return wrapper"
   ]
  },
  {
   "cell_type": "code",
   "execution_count": 54,
   "id": "08acae5e",
   "metadata": {},
   "outputs": [],
   "source": [
    "@decorate\n",
    "def func(x, y):\n",
    "    time.sleep(2)\n",
    "    return 1"
   ]
  },
  {
   "cell_type": "code",
   "execution_count": 55,
   "id": "f4243a21",
   "metadata": {},
   "outputs": [
    {
     "name": "stdout",
     "output_type": "stream",
     "text": [
      "17\n"
     ]
    }
   ],
   "source": [
    "func(5, 12)"
   ]
  },
  {
   "cell_type": "code",
   "execution_count": 86,
   "id": "d86ab7be",
   "metadata": {},
   "outputs": [],
   "source": [
    "class Computer:\n",
    "    def process(self):\n",
    "        pass"
   ]
  },
  {
   "cell_type": "code",
   "execution_count": 87,
   "id": "5a55fe92",
   "metadata": {},
   "outputs": [],
   "source": [
    "com = Computer()"
   ]
  },
  {
   "cell_type": "code",
   "execution_count": 88,
   "id": "9267e14d",
   "metadata": {},
   "outputs": [],
   "source": [
    "com.process()"
   ]
  },
  {
   "cell_type": "code",
   "execution_count": 89,
   "id": "88645a3f",
   "metadata": {},
   "outputs": [],
   "source": [
    "from abc import ABC, abstractmethod\n",
    "class Computer(ABC):\n",
    "    @abstractmethod\n",
    "    def process(self):\n",
    "        pass\n",
    "    "
   ]
  },
  {
   "cell_type": "code",
   "execution_count": 97,
   "id": "80f53a24",
   "metadata": {},
   "outputs": [],
   "source": [
    "# com = Computer()"
   ]
  },
  {
   "cell_type": "code",
   "execution_count": 94,
   "id": "0594616d",
   "metadata": {},
   "outputs": [],
   "source": [
    "class Laptop(Computer):\n",
    "    def process(self):\n",
    "        print(\"Its Running\")"
   ]
  },
  {
   "cell_type": "code",
   "execution_count": 95,
   "id": "d2ced87b",
   "metadata": {},
   "outputs": [],
   "source": [
    "com1 = Laptop()"
   ]
  },
  {
   "cell_type": "code",
   "execution_count": 96,
   "id": "bf33889d",
   "metadata": {},
   "outputs": [
    {
     "name": "stdout",
     "output_type": "stream",
     "text": [
      "Its Running\n"
     ]
    }
   ],
   "source": [
    "com1.process()"
   ]
  },
  {
   "cell_type": "code",
   "execution_count": 106,
   "id": "50a725c5",
   "metadata": {},
   "outputs": [],
   "source": [
    "class Whiteboard:\n",
    "    def process(self):\n",
    "        print(\"Its running\")"
   ]
  },
  {
   "cell_type": "code",
   "execution_count": 107,
   "id": "eb1cbc2e",
   "metadata": {},
   "outputs": [],
   "source": [
    "class Programmer:\n",
    "    def work(self, com):\n",
    "        print(\"solving Bugs\")\n",
    "        com.process()"
   ]
  },
  {
   "cell_type": "code",
   "execution_count": 108,
   "id": "332e8cfd",
   "metadata": {},
   "outputs": [],
   "source": [
    "com1 = Laptop()\n",
    "com2 = Whiteboard()"
   ]
  },
  {
   "cell_type": "code",
   "execution_count": 109,
   "id": "e6489ff9",
   "metadata": {},
   "outputs": [
    {
     "name": "stdout",
     "output_type": "stream",
     "text": [
      "solving Bugs\n",
      "Its running\n"
     ]
    }
   ],
   "source": [
    "prog1 = Programmer()\n",
    "prog1.work(com2)"
   ]
  },
  {
   "cell_type": "code",
   "execution_count": 111,
   "id": "538f7244",
   "metadata": {},
   "outputs": [],
   "source": [
    "from abc import ABC, abstractmethod\n",
    "class Vehicle(ABC):\n",
    "    def __init__(self, n):\n",
    "        self.no_of_types=n\n",
    "    @abstractmethod\n",
    "    def start(self):\n",
    "        pass\n",
    "    \n",
    "    def display(self):\n",
    "        print(\"Hi am calling from vehicle class\")\n",
    "        \n",
    "class Bike:\n",
    "    def __init__(self):\n",
    "        self.no_of_tyres=2\n",
    "        \n",
    "    def start(self):\n",
    "        print(\"Start with a kick\")\n",
    "        \n",
    "class Scooty:\n",
    "    def __init__(self):\n",
    "        self.no_of_tyres=2\n",
    "        \n",
    "    def start(self):\n",
    "        print(\"Self Start\")\n",
    "        \n",
    "class Car:\n",
    "    def __init__(self):\n",
    "        self.no_of_tyres = 4\n",
    "    def start(self):\n",
    "        print(\"Start with a key\")\n",
    "        \n"
   ]
  },
  {
   "cell_type": "code",
   "execution_count": null,
   "id": "3cb724a8",
   "metadata": {},
   "outputs": [],
   "source": [
    "from abc import ABC, abstractmethod\n",
    "class Vehicle(ABC):\n",
    "    def __init__(self, n):\n",
    "        self.no_of_types=n\n",
    "    @abstractmethod\n",
    "    def start(self):\n",
    "        pass"
   ]
  },
  {
   "cell_type": "code",
   "execution_count": 112,
   "id": "8be30095",
   "metadata": {},
   "outputs": [],
   "source": [
    "from abc import ABC, abstractmethod\n",
    "\n",
    "class Shape(ABC):\n",
    "    @abstractmethod\n",
    "    def area(self):\n",
    "        pass\n",
    "    \n",
    "\n",
    "class Circle(Shape):\n",
    "    def __init__(self, radius):\n",
    "        self.radius = radius\n",
    "\n",
    "    def area(self):\n",
    "        return 3.14 * self.radius ** 2\n"
   ]
  },
  {
   "cell_type": "code",
   "execution_count": 114,
   "id": "1f7e9d22",
   "metadata": {},
   "outputs": [],
   "source": [
    "c1 = Circle(7)"
   ]
  },
  {
   "cell_type": "code",
   "execution_count": 116,
   "id": "592737c4",
   "metadata": {},
   "outputs": [
    {
     "data": {
      "text/plain": [
       "153.86"
      ]
     },
     "execution_count": 116,
     "metadata": {},
     "output_type": "execute_result"
    }
   ],
   "source": [
    "c1.area()\n"
   ]
  },
  {
   "cell_type": "code",
   "execution_count": 117,
   "id": "e4b484dc",
   "metadata": {},
   "outputs": [
    {
     "ename": "TypeError",
     "evalue": "Can't instantiate abstract class Shape with abstract method area",
     "output_type": "error",
     "traceback": [
      "\u001b[1;31m---------------------------------------------------------------------------\u001b[0m",
      "\u001b[1;31mTypeError\u001b[0m                                 Traceback (most recent call last)",
      "Cell \u001b[1;32mIn[117], line 1\u001b[0m\n\u001b[1;32m----> 1\u001b[0m s1 \u001b[38;5;241m=\u001b[39m \u001b[43mShape\u001b[49m\u001b[43m(\u001b[49m\u001b[43m)\u001b[49m\n",
      "\u001b[1;31mTypeError\u001b[0m: Can't instantiate abstract class Shape with abstract method area"
     ]
    }
   ],
   "source": [
    "s1 = Shape()"
   ]
  },
  {
   "cell_type": "code",
   "execution_count": 120,
   "id": "f347d057",
   "metadata": {},
   "outputs": [
    {
     "name": "stdout",
     "output_type": "stream",
     "text": [
      "B\n"
     ]
    }
   ],
   "source": [
    "class A:\n",
    "    def show(self):\n",
    "        print(\"A\")\n",
    "\n",
    "class B(A):\n",
    "    def show(self):\n",
    "        print(\"B\")\n",
    "\n",
    "class C(A):\n",
    "    def show(self):\n",
    "        print(\"C\")\n",
    "\n",
    "class D(B, C):\n",
    "    pass\n",
    "\n",
    "obj = D()\n",
    "obj.show()\n"
   ]
  },
  {
   "cell_type": "code",
   "execution_count": 124,
   "id": "538203a6",
   "metadata": {},
   "outputs": [],
   "source": [
    "class Mobile:\n",
    "    @staticmethod\n",
    "    def show_series(m, p):\n",
    "        print(f\"My Phone series number is 5i {m}, {p}\")"
   ]
  },
  {
   "cell_type": "code",
   "execution_count": 125,
   "id": "adc28a63",
   "metadata": {},
   "outputs": [
    {
     "name": "stdout",
     "output_type": "stream",
     "text": [
      "My Phone series number is 5i 3, 8\n"
     ]
    }
   ],
   "source": [
    "m1 = Mobile()\n",
    "m1.show_series(3, 8)"
   ]
  },
  {
   "cell_type": "code",
   "execution_count": 147,
   "id": "266ecc22",
   "metadata": {},
   "outputs": [],
   "source": [
    "class Student:\n",
    "    grade = 4\n",
    "    \n",
    "    def __init__(self, name, age):\n",
    "        self.name = name\n",
    "        self.age = age\n",
    "        \n",
    "    def get_data(self):\n",
    "        print(f\"Name : {self.name}, Age : {self.age}, Grade : {self.grade}\")\n",
    "    \n",
    "    @classmethod\n",
    "    def update_grade(cls_, grade):\n",
    "        cls_.grade = grade \n",
    "        \n",
    "    @staticmethod\n",
    "    def check_age(age):\n",
    "        if age>18:\n",
    "            print(\"Above 18\")\n",
    "        else:\n",
    "            print(\"Below 18\")\n",
    "    "
   ]
  },
  {
   "cell_type": "code",
   "execution_count": 148,
   "id": "ddb81031",
   "metadata": {},
   "outputs": [],
   "source": [
    "Student.update_grade(49)"
   ]
  },
  {
   "cell_type": "code",
   "execution_count": 149,
   "id": "27dc9b16",
   "metadata": {},
   "outputs": [],
   "source": [
    "s1 = Student('Divyanshu', 12)\n",
    "s2 = Student(\"Shubham\", 21)"
   ]
  },
  {
   "cell_type": "code",
   "execution_count": 150,
   "id": "93b85419",
   "metadata": {},
   "outputs": [
    {
     "name": "stdout",
     "output_type": "stream",
     "text": [
      "Name : Divyanshu, Age : 12, Grade : 49\n"
     ]
    }
   ],
   "source": [
    "s1.get_data()"
   ]
  },
  {
   "cell_type": "code",
   "execution_count": 151,
   "id": "bc1bda11",
   "metadata": {},
   "outputs": [
    {
     "name": "stdout",
     "output_type": "stream",
     "text": [
      "Name : Shubham, Age : 21, Grade : 49\n"
     ]
    }
   ],
   "source": [
    "s2.get_data()"
   ]
  },
  {
   "cell_type": "code",
   "execution_count": 153,
   "id": "d440cba1",
   "metadata": {},
   "outputs": [
    {
     "name": "stdout",
     "output_type": "stream",
     "text": [
      "Above 18\n"
     ]
    }
   ],
   "source": [
    "s1.check_age(24)"
   ]
  },
  {
   "cell_type": "code",
   "execution_count": null,
   "id": "d957ef51",
   "metadata": {},
   "outputs": [],
   "source": []
  }
 ],
 "metadata": {
  "kernelspec": {
   "display_name": "Python 3 (ipykernel)",
   "language": "python",
   "name": "python3"
  },
  "language_info": {
   "codemirror_mode": {
    "name": "ipython",
    "version": 3
   },
   "file_extension": ".py",
   "mimetype": "text/x-python",
   "name": "python",
   "nbconvert_exporter": "python",
   "pygments_lexer": "ipython3",
   "version": "3.9.12"
  }
 },
 "nbformat": 4,
 "nbformat_minor": 5
}
